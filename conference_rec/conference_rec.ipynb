{
 "metadata": {
  "language_info": {
   "codemirror_mode": {
    "name": "ipython",
    "version": 3
   },
   "file_extension": ".py",
   "mimetype": "text/x-python",
   "name": "python",
   "nbconvert_exporter": "python",
   "pygments_lexer": "ipython3",
   "version": "3.9.2-final"
  },
  "orig_nbformat": 2,
  "kernelspec": {
   "name": "python3",
   "display_name": "Python 3.9.2 64-bit",
   "metadata": {
    "interpreter": {
     "hash": "4cd7ab41f5fca4b9b44701077e38c5ffd31fe66a6cab21e0214b68d958d0e462"
    }
   }
  }
 },
 "nbformat": 4,
 "nbformat_minor": 2,
 "cells": [
  {
   "cell_type": "code",
   "execution_count": 1,
   "metadata": {},
   "outputs": [],
   "source": [
    "import nltk\n",
    "\n",
    "import pandas as pd\n",
    "import numpy as np\n",
    "\n",
    "from nltk.corpus import stopwords\n",
    "from nltk.stem import WordNetLemmatizer\n",
    "from sklearn.feature_extraction.text import TfidfVectorizer\n",
    "from sklearn.metrics.pairwise import linear_kernel\n"
   ]
  },
  {
   "cell_type": "code",
   "execution_count": 2,
   "metadata": {},
   "outputs": [
    {
     "output_type": "stream",
     "name": "stderr",
     "text": [
      "[nltk_data] Downloading package punkt to /home/vscode/nltk_data...\n",
      "[nltk_data]   Unzipping tokenizers/punkt.zip.\n",
      "[nltk_data] Downloading package averaged_perceptron_tagger to\n",
      "[nltk_data]     /home/vscode/nltk_data...\n",
      "[nltk_data]   Unzipping taggers/averaged_perceptron_tagger.zip.\n",
      "[nltk_data] Downloading package wordnet to /home/vscode/nltk_data...\n",
      "[nltk_data]   Unzipping corpora/wordnet.zip.\n",
      "[nltk_data] Downloading package stopwords to /home/vscode/nltk_data...\n",
      "[nltk_data]   Unzipping corpora/stopwords.zip.\n"
     ]
    }
   ],
   "source": [
    "nltk.download(\"punkt\")\n",
    "nltk.download(\"averaged_perceptron_tagger\")\n",
    "nltk.download(\"wordnet\")\n",
    "nltk.download(\"stopwords\")\n",
    "\n",
    "lemmatizer = WordNetLemmatizer()\n",
    "stop_words = set(stopwords.words(\"english\"))\n",
    "\n",
    "verb_codes = {\"VB\", \"VBD\", \"VBG\", \"VBN\", \"VBP\", \"VBZ\"}"
   ]
  },
  {
   "cell_type": "code",
   "execution_count": 6,
   "metadata": {},
   "outputs": [],
   "source": [
    "cs_conferences = pd.read_pickle(\"/workspaces/VRA/conference_rec/wikicfp_cs.pkl\")\n"
   ]
  },
  {
   "cell_type": "code",
   "execution_count": 9,
   "metadata": {},
   "outputs": [],
   "source": [
    "cs_rec = cs_conferences[[\"Conference Title\", \"WikiCFP Tags\", \"Conference Description\"]]\n",
    "cs_rec.columns = [\"title\", \"tags\", \"description\"]\n",
    "cs_rec = cs_rec.set_index(\"title\")\n",
    "cs_rec[\"soup\"] = cs_rec[\"tags\"] + \" \" + cs_rec[\"description\"]"
   ]
  },
  {
   "cell_type": "code",
   "execution_count": 11,
   "metadata": {},
   "outputs": [],
   "source": [
    "def preprocess_sentences(text):\n",
    "    text = text.lower()\n",
    "    temp_sent = []\n",
    "    words = nltk.word_tokenize(text)\n",
    "    tags = nltk.pos_tag(words)\n",
    "    for i, word in enumerate(words):\n",
    "        if tags[i][1] in verb_codes:\n",
    "            lemmatized = lemmatizer.lemmatize(word, 'v')\n",
    "        else:\n",
    "            lemmatized = lemmatizer.lemmatize(word)\n",
    "        if lemmatized not in stop_words and lemmatized.isalpha():\n",
    "            temp_sent.append(lemmatized)\n",
    "            \n",
    "    finalsent = ' '.join(temp_sent)\n",
    "    finalsent = finalsent.replace(\"n't\", \" not\")\n",
    "    finalsent = finalsent.replace(\"'m\", \" am\")\n",
    "    finalsent = finalsent.replace(\"'s\", \" is\")\n",
    "    finalsent = finalsent.replace(\"'re\", \" are\")\n",
    "    finalsent = finalsent.replace(\"'ll\", \" will\")\n",
    "    finalsent = finalsent.replace(\"'ve\", \" have\")\n",
    "    finalsent = finalsent.replace(\"'d\", \" would\")\n",
    "    return finalsent\n",
    "\n",
    "cs_rec[\"processed_soup\"] = cs_rec[\"soup\"].apply(preprocess_sentences)\n"
   ]
  },
  {
   "cell_type": "code",
   "execution_count": 15,
   "metadata": {},
   "outputs": [],
   "source": [
    "tfidfvec = TfidfVectorizer()\n",
    "tfidf_model = tfidfvec.fit_transform(cs_rec[\"processed_soup\"])\n",
    "cos_sim = linear_kernel(tfidf_model, tfidf_model)"
   ]
  },
  {
   "cell_type": "code",
   "execution_count": 16,
   "metadata": {},
   "outputs": [],
   "source": [
    "indices = pd.Series(cs_rec.index)\n",
    "\n",
    "def recommendations(title, cosine_sim = cos_sim):\n",
    "    recommended_conferences = []\n",
    "    index = indices[indices == title].index[0]\n",
    "    similarity_scores = pd.Series(cosine_sim[index]).sort_values(ascending = False)\n",
    "    top_10_conferences = list(similarity_scores.iloc[1:11].index)\n",
    "    for i in top_10_conferences:\n",
    "        recommended_conferences.append(list(cs_rec.index)[i])\n",
    "    return recommended_conferences"
   ]
  },
  {
   "cell_type": "code",
   "execution_count": 17,
   "metadata": {},
   "outputs": [
    {
     "output_type": "execute_result",
     "data": {
      "text/plain": [
       "['IJCCSA 2021 : International Journal on Cloud Computing: Services and Architecture ',\n",
       " 'CLBD 2021 : 2nd International Conference on Cloud and Big Data',\n",
       " 'CBIoT 2021 : 2nd International Conference on Cloud, Big Data and IoT ',\n",
       " 'CLSB  2021 : 2nd International Conference on Cloud Computing, Security and Blockchain ',\n",
       " 'CBW  2021 : 2nd International Conference on Cloud, Big Data and Web Services ',\n",
       " 'IBCOM  2021 : 2nd International Conference on IoT, Blockchain & Cloud Computing',\n",
       " 'CCSEA 2021 : 11th International Conference on Computer Science, Engineering and Applications',\n",
       " 'EMSA  2021 : 10th International Conference on Embedded Systems and Applications ',\n",
       " 'ICCSEA 2021 : 11th International Conference on Computer Science, Engineering and Applications ',\n",
       " 'CSIT 2021 : 8th International Conference on Computer Science and Information Technology ']"
      ]
     },
     "metadata": {},
     "execution_count": 17
    }
   ],
   "source": [
    "recommendations(\"CLOUD 2021 : 10th International Conference on Cloud Computing: Services and Architecture\")"
   ]
  },
  {
   "cell_type": "code",
   "execution_count": 18,
   "metadata": {},
   "outputs": [
    {
     "output_type": "execute_result",
     "data": {
      "text/plain": [
       "['EEIEJ 2021 : Emerging Trends in Electrical, Electronics & Instrumentation Engineering: An international Journal',\n",
       " 'ELELIJ 2021 : Electrical and Electronics Engineering: An International Journal ',\n",
       " 'ADEIJ 2021 : Advances in Engineering: an International Journal ',\n",
       " 'CSEIJ 2021 : Computer Science & Engineering: An International Journal',\n",
       " 'IJCSEIT 2021 : International Journal of Computer Science, Engineering and Information Technology',\n",
       " 'MLAIJ 2021 : Machine Learning and Applications: An International Journal ',\n",
       " 'IJSEA 2021 : International Journal of Software Engineering & Applications - ERA 2018 Indexed',\n",
       " 'IJCSEA 2021 : International Journal of Computer Science, Engineering and Applications ',\n",
       " 'IJACEEE 2021 :  International Journal of Applied Control, Electrical and Electronics Engineering ',\n",
       " 'IJCTCM 2021 : International Journal of Control Theory and Computer Modelling ']"
      ]
     },
     "metadata": {},
     "execution_count": 18
    }
   ],
   "source": [
    "recommendations(\"ECIJ 2021 : Electrical & Computer Engineering: An International Journal\")"
   ]
  }
 ]
}