{
 "cells": [
  {
   "cell_type": "markdown",
   "id": "c5322cef",
   "metadata": {},
   "source": [
    "### The main file for training SAGE graph for link predictions\n",
    "\n",
    "Before running this file, be sure to run the data preparation as below if not already exist"
   ]
  },
  {
   "cell_type": "raw",
   "id": "a5620d9c",
   "metadata": {},
   "source": [
    "from prepare_data import yearly_authors\n",
    "# define years of interest for automatic training, validation and test\n",
    "yrs = list(range(1980, 1990))\n",
    "authfile = '../DLrec/newdata/processed_pubs.pickle'\n",
    "yearly_authors(authfile = authfile, years = yrs, savepath = 'sage/data/') "
   ]
  },
  {
   "cell_type": "markdown",
   "id": "42acfd80",
   "metadata": {},
   "source": [
    "this main file should be similar to training main file, only difference is that \n",
    "* we will give them the opportunity to filter the affiliations.\n",
    "* also we should aime to give top 10 instead (not too many), \n",
    "* with each recommended collaborator having their article title listed & link:pub_details['link'] = 'https://www.ncbi.nlm.nih.gov/pubmed/?term=' + pmid"
   ]
  },
  {
   "cell_type": "markdown",
   "id": "71dc7a17",
   "metadata": {},
   "source": [
    "now you will get into dataset preparation(graph construction), train, valid and test split, then train the model and save the results"
   ]
  },
  {
   "cell_type": "code",
   "execution_count": null,
   "id": "ef44ccf2",
   "metadata": {},
   "outputs": [],
   "source": [
    "# imports\n",
    "import argparse\n",
    "import itertools\n",
    "import numpy as np\n",
    "import pandas as pd \n",
    "import scipy.sparse as sp\n",
    "from sklearn.metrics import roc_auc_score\n",
    "# import pickle\n",
    "\n",
    "# torch \n",
    "import torch\n",
    "import torch.nn as nn\n",
    "import torch.nn.functional as F\n",
    "\n",
    "# dgl \n",
    "import dgl\n",
    "from dgl.data.utils import save_graphs, load_graphs\n",
    "\n",
    "# local\n",
    "from prepare_data import yearly_authors\n",
    "from prepare_dataset import CollabDataset\n",
    "from models import GraphSAGE, MLPPredictor, DotPredictor\n",
    "import utils as ut "
   ]
  },
  {
   "cell_type": "code",
   "execution_count": null,
   "id": "4f1539e7",
   "metadata": {},
   "outputs": [],
   "source": [
    "def main(args):\n",
    "    \n",
    "    device = torch.device('cuda:1' if torch.cuda.is_available() else 'cpu')\n",
    "\n",
    "    # data first\n",
    "    # yearly_authors(authfile = args.authfile, years = args.yrs, savepath = args.save_path + 'data/') \n",
    "    # dataset first time processing \n",
    "    # dataset = CollabDataset()\n",
    "    # graph = dataset[0].to(device)\n",
    "    # save_graphs(args.save_path + 'data/sageGraph.bin', [graph])\n",
    "    ## later just load \n",
    "    graph = load_graphs(args.save_path + \"data/sageGraph.bin\")[0][0].to(device)\n",
    "    print('graph info at a glance:')\n",
    "    print(graph)\n",
    "    \n",
    "    # splits into train, valid and test \n",
    "    outputs = ut.split_edges(graph, newNodeMask = True)\n",
    "    # depending on how long the output is:\n",
    "    outgs = ut.construct_wEdges(graph, outputs)\n",
    "    train_g, train_pos_g, train_neg_g, val_pos_g, val_neg_g, test_pos_g, test_neg_g, \\\n",
    "                 new_val_pos_g, new_val_neg_g, new_test_pos_g,  new_test_neg_g = outgs \n",
    "    \n",
    "    # model and prediction model\n",
    "    \n",
    "    model = GraphSAGE(train_g.ndata['feat'].shape[1], h_feats = args.h_feats, pool = [args.sage_pool, args.sage_pool]).to(device)\n",
    "    predmodel = MLPPredictor(h_feats = args.h_feats).to(device)\n",
    "    # option\n",
    "    # predmodel = DotPredictor()\n",
    "    optimizer = torch.optim.Adam(itertools.chain(model.parameters(), predmodel.parameters()), lr=args.lr)\n",
    "    h, model, predmodel = ut.train_epochs(model, predmodel, train_g, train_pos_g, train_neg_g, optimizer, device, \\\n",
    "                                          val_pos_g, val_neg_g, \\\n",
    "                                          epochs = args.epochs, every = 5, path = args.save_path, \\\n",
    "                                          new_val_pos_g = new_val_pos_g, new_val_neg_g = new_val_neg_g )\n",
    "\n",
    "    ut.pred(h, predmodel, test_pos_g, test_neg_g, new_test_pos_g = new_test_pos_g, new_test_neg_g = new_test_neg_g, \\\n",
    "            save = args.save_path)\n"
   ]
  },
  {
   "cell_type": "code",
   "execution_count": null,
   "id": "e22f2f5d",
   "metadata": {},
   "outputs": [],
   "source": [
    "# keep the original data statistics, and more epochs\n",
    "if __name__ == \"__main__\": \n",
    "\n",
    "    parser = argparse.ArgumentParser(description='SAGE graph for link prediction')\n",
    "    parser.add_argument('--yrs', default= [2018, 2019, 2020], type = int,\n",
    "                        help='years to build the GraphSAGE')\n",
    "    parser.add_argument('--authfile', default= '../DLrec/newdata/processed_pubs.pickle',\n",
    "                        help='original crawled pubmed pickle that contains info about publication and authors')\n",
    "    parser.add_argument('--h_feats', default = 200,\n",
    "                        help='embedding dimension of GraphSAGE output')\n",
    "    parser.add_argument('--sage_pool', default= 'gcn',\n",
    "                        help='aggregation type for GraphSAGE, choose from : mean, pool, gcn')\n",
    "    parser.add_argument('--lr', default= 0.001,\n",
    "                        help='learning rate of the optimizer')\n",
    "    parser.add_argument('--epochs', default= 100,\n",
    "                        help='training epochs')\n",
    "    parser.add_argument('--save_path', default= 'sage/',\n",
    "                        help='main path to store model and prediction results for GraphSAGE')\n",
    "    args = parser.parse_args([])\n",
    "    main(args = args)"
   ]
  }
 ],
 "metadata": {
  "kernelspec": {
   "display_name": "Python 3 (ipykernel)",
   "language": "python",
   "name": "python3"
  },
  "language_info": {
   "codemirror_mode": {
    "name": "ipython",
    "version": 3
   },
   "file_extension": ".py",
   "mimetype": "text/x-python",
   "name": "python",
   "nbconvert_exporter": "python",
   "pygments_lexer": "ipython3",
   "version": "3.7.11"
  }
 },
 "nbformat": 4,
 "nbformat_minor": 5
}
