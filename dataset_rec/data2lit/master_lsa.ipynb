{
 "cells": [
  {
   "cell_type": "code",
   "execution_count": null,
   "metadata": {
    "scrolled": true
   },
   "outputs": [],
   "source": [
    "from sklearn.metrics.pairwise import linear_kernel, cosine_similarity\n",
    "import pickle\n",
    "from collections import defaultdict\n",
    "import numpy as np\n",
    "import scipy\n",
    "import os\n",
    "import time       \n",
    "import os \n",
    "\n",
    "from emb.lsa import LSA\n",
    "from utils.find_ranking_citation import CitationRanking\n",
    "from utils.write_result import WriteResult\n",
    "from utils.utils import sort_this\n",
    "from utils.configuraiton import Rec_configuration \n",
    "from utils.eval import Metrics\n",
    "from utils.data_loading import DataLoading"
   ]
  },
  {
   "cell_type": "code",
   "execution_count": null,
   "metadata": {},
   "outputs": [],
   "source": [
    "class Master:\n",
    "    def __init__(self, rerank = False):\n",
    "        self.rec_conf = Rec_configuration()\n",
    "        self.article_title, self.article_abstract, self.geo_title, \\\n",
    "        self.geo_summary, self.citation_data = DataLoading().get_all_details() #we should get actual citations\n",
    "        self.auto_rank = CitationRanking(self.citation_data)\n",
    "        self.write_res = WriteResult()\n",
    "        choose = list(self.citation_data.keys())\n",
    "        self.geo_test_data = [key for key in choose if self.citation_data[key] != []] #76,064\n",
    "        #self.rr = ReRankingTitle() # i definitely need to work on this as well (re-ranking title using bert)\n",
    "        self.top_threshold = 10 #sounds nice\n",
    "        self.rerank = rerank\n",
    "        #bert related\n",
    "        #self.model_distilbert = SentenceTransformer('distilbert-base-nli-stsb-mean-tokens') #roberta \n",
    "        self.model_addr = self.rec_conf.model_path_lsa #subject to change\n",
    "        self.res_addr = self.rec_conf.result_address_lsa #subject to change\n",
    "\n",
    "    def process(self):\n",
    "        #check paths and check vecs  \n",
    "        lsa = LSA(self.rec_conf.model_path_lsa)\n",
    "        pmids, lsa_vecs = None, None #this should be loading something\n",
    "\n",
    "        # This is for loading the pre-trained bert models.\n",
    "        if lsa_vecs is not None and pmids is not None:\n",
    "            print('load trained models and encoded publications vectors')\n",
    "            '''\n",
    "            \n",
    "            '''\n",
    "        else:\n",
    "            print('Building models')\n",
    "            joined_dict_article = {}\n",
    "            for pmid in self.article_title: #for articles, encoding the articles\n",
    "                #print('pmid')\n",
    "                #print(pmid)\n",
    "                if (self.article_title[pmid] + self.article_abstract[pmid]).strip() != '':\n",
    "                    joined_dict_article[pmid] = self.article_title[pmid] + ' ' + self.article_abstract[pmid]\n",
    "            #should be some training here, otherwise just do the easiest encodinh\n",
    "            lsa_dict = lsa.training_LSA(joined_dict_article)\n",
    "            with open(self.res_addr + 'smallbase/lsa_dict.pickle', 'wb') as handle:\n",
    "                pickle.dump(lsa_dict, handle, protocol=pickle.HIGHEST_PROTOCOL)\n",
    "   \n",
    "    \n",
    "        joined_dict_geo = {} # maxium: 76,064\n",
    "        # screening first for those geo_ids with pmids \n",
    "        for geo_id in self.geo_test_data:\n",
    "            print('geo_id')\n",
    "            print(geo_id)\n",
    "            if (self.geo_title[geo_id] + self.geo_summary[geo_id]).strip() != '':\n",
    "                #only get the ones with actual texts\n",
    "                joined_dict_geo[geo_id] = self.geo_title[geo_id] + ' ' + self.geo_summary[geo_id]\n",
    "        geo_lsa_vecs = lsa.test_LSA(joined_dict_geo)\n",
    "        with open(self.res_addr + 'smallbase/geo_lsa_vecs.pickle', 'wb') as handle:\n",
    "            pickle.dump(geo_lsa_vecs, handle, protocol=pickle.HIGHEST_PROTOCOL)"
   ]
  },
  {
   "cell_type": "code",
   "execution_count": null,
   "metadata": {},
   "outputs": [],
   "source": [
    "def main():\n",
    "    x = Master(rerank = False)\n",
    "    x.process()\n",
    "\n",
    "\n",
    "if __name__ == '__main__':\n",
    "    main()"
   ]
  },
  {
   "cell_type": "code",
   "execution_count": null,
   "metadata": {},
   "outputs": [],
   "source": [
    "#read-in stored vec \n",
    "res_addr = 'results/lsa_plain/smallbase/'\n",
    "with open(res_addr +'lsa_dict.pickle', 'rb') as fp:\n",
    "    lsa_dict = pickle.load(fp)\n",
    "with open(res_addr +'geo_lsa_vecs.pickle', 'rb') as fp:\n",
    "      geo_lsa_vecs = pickle.load(fp)        "
   ]
  },
  {
   "cell_type": "code",
   "execution_count": null,
   "metadata": {},
   "outputs": [],
   "source": [
    "#do numpy only\n",
    "_, _, geo_title, geo_summary, citation_data = DataLoading().get_all_details() #we should get actual citations\n",
    "auto_rank = CitationRanking(citation_data)\n",
    "write_res = WriteResult()  \n",
    "b_size = 64"
   ]
  },
  {
   "cell_type": "code",
   "execution_count": null,
   "metadata": {},
   "outputs": [],
   "source": [
    "chunks = len(geo_lsa_vecs) // b_size +1\n",
    "for step in range(chunks):\n",
    "    batch = geo_lsa_vecs[step*b_size:(step+1)*b_size]\n",
    "    #print(batch)\n",
    "    #print(batch)\n",
    "    #batch = batch[0].to(device)\n",
    "    batch = np.array(batch)\n",
    "    print(batch.shape)\n",
    "    geo_ids_batch = geo_ids[step*b_size: (step+1)*b_size]\n",
    "    #geo_batch, geo_ids_batch = batch\n",
    "    similarity_value_dict = dict()\n",
    "    similarity_scores = cosine_similarity(batch, lsa_vecs)\n",
    "    np.save(res_addr + 'similarity_scores_batch_' + str(step), similarity_scores)#.cpu().numpy())\n",
    "    #load this later\n",
    "    #np.load(self.res_addr + 'base/similarity_scores')\n",
    "    print(similarity_scores.shape)\n",
    "    #call the re-ranking or not \n",
    "    for i, geo_id in enumerate(geo_ids_batch): #this is only from testing geo_id\n",
    "        print(geo_id)\n",
    "        similarity_value_dict[geo_id] =  list(similarity_scores[i])#.cpu().numpy())\n",
    "\n",
    "    new_similarity_dict =  sort_this(geo_sim_dict = similarity_value_dict, pmid_ls = pmids)\n",
    "    new_similarity_dict = dict(new_similarity_dict)\n",
    "    filename =  res_addr + 'new_similarity_dict_batch_' + str(step)\n",
    "    os.makedirs(os.path.dirname(filename), exist_ok=True)\n",
    "    with open(res_addr + 'new_similarity_dict_batch_' + str(step), 'wb') as handle:\n",
    "        pickle.dump(new_similarity_dict, handle, protocol=pickle.HIGHEST_PROTOCOL)\n",
    "        \n",
    "    print('export dict!!!!!!!!')\n",
    "     \n",
    "        #screen for geo_ids that actually has citations t\n",
    "    for id, geo_id in enumerate(geo_ids_batch): \n",
    "        print(geo_id)\n",
    "        #this has already stored in a pickled list of geo_haspmid.pickle\n",
    "        temp_selected = new_similarity_dict[geo_id]\n",
    "        filename =  res_addr + geo_id + '.txt'\n",
    "        os.makedirs(os.path.dirname(filename), exist_ok=True)\n",
    "        write_res.write(res_addr  + geo_id + '.txt', temp_selected)\n",
    "        auto_rank.find_citations(geo_id, list(temp_selected.keys())) #keys are a list of pmids\n",
    "\n",
    "a, b, c, d = auto_rank.get_values() #need to modify this \n",
    "print('good geo recommendations = {}, top1 hit geo recommendations = {}, bad geo recommendations = {}, '\n",
    "      'geo without citations = {}'.format(a, b, c, d))"
   ]
  },
  {
   "cell_type": "code",
   "execution_count": null,
   "metadata": {},
   "outputs": [],
   "source": [
    "#import glob\n",
    "#files = glob.glob(res_addr + \"similarity_scores_batch_*\")\n",
    "res_addr = 'results/lsa_plain/smallbase/'\n",
    "new_similarity_dict =  {}\n",
    "#print\n",
    "#for file in files:\n",
    "for i in range(step +1):\n",
    "    with open(res_addr + \"new_similarity_dict_batch_\" + str(i), 'rb') as fp:\n",
    "        dict_batch = pickle.load(fp)\n",
    "        new_similarity_dict.update(dict_batch)\n",
    "#dict.update(dict2)\n",
    "#dict.update(dict3)\n",
    "with open(res_addr + 'new_similarity_dict.pickle', 'wb') as handle:\n",
    "    pickle.dump(new_similarity_dict, handle, protocol=pickle.HIGHEST_PROTOCOL)"
   ]
  },
  {
   "cell_type": "code",
   "execution_count": null,
   "metadata": {
    "scrolled": true
   },
   "outputs": [],
   "source": [
    "#MRR \n",
    "print('MRR:')\n",
    "print(Metrics(citation_data).calculate_mrr(new_similarity_dict)) #mrr\n",
    "#recall @1 and recall @10\n",
    "print('recall@1, recall@10:')\n",
    "print(Metrics(citation_data).calculate_recall_at_k(new_similarity_dict, 1))\n",
    "print(Metrics(citation_data).calculate_recall_at_k(new_similarity_dict, 10))\n",
    "#Precision@1 and precision10\n",
    "print('precision@1, precision@10:')\n",
    "print(Metrics(citation_data).calculate_precision_at_k(new_similarity_dict, 1))        \n",
    "print(Metrics(citation_data).calculate_precision_at_k(new_similarity_dict, 10))\n",
    "#MAP@10\n",
    "print(Metrics(citation_data).calculate_MAP_at_k(new_similarity_dict))"
   ]
  },
  {
   "cell_type": "markdown",
   "metadata": {},
   "source": [
    "## 2. time it "
   ]
  },
  {
   "cell_type": "code",
   "execution_count": null,
   "metadata": {},
   "outputs": [],
   "source": [
    "joined_dict_geo = {}\n",
    "for geo_id in geo_title:\n",
    "    #print('geo_id')\n",
    "    #print(geo_id)\n",
    "    if (geo_title[geo_id] + geo_summary[geo_id]).strip() != '':\n",
    "        #only get the ones with actual texts\n",
    "        joined_dict_geo[geo_id] = geo_title[geo_id] + ' ' + geo_summary[geo_id]"
   ]
  },
  {
   "cell_type": "code",
   "execution_count": null,
   "metadata": {},
   "outputs": [],
   "source": [
    "lsa = LSA(Rec_configuration().model_path_lsa)"
   ]
  },
  {
   "cell_type": "code",
   "execution_count": null,
   "metadata": {},
   "outputs": [],
   "source": [
    "lsa_vecs = np.array(list(lsa_dict.values()))\n",
    "timeit_ls =[]\n",
    "chunks = len(joined_dict_geo) // b_size +1\n",
    "for step in range(chunks):\n",
    "    out = dict(list(joined_dict_geo.items())[step*b_size:(step+1)*b_size])  \n",
    "    geo_ids_batch = geo_ids[step*b_size: (step+1)*b_size]\n",
    "    start_time = time.time()\n",
    "    geo_lsa_vecs = lsa.test_LSA(joined_dict_geo)\n",
    "    #batch = geo_tfidf_vecs[step*b_size:(step+1)*b_size]\n",
    "    batch = np.array(list(geo_lsa_vecs.values()))\n",
    "    #print(batch.shape)\n",
    "    #geo_ids_batch = geo_ids[step*b_size: (step+1)*b_size]\n",
    "    similarity_value_dict = dict()\n",
    "    similarity_scores = cosine_similarity(batch, lsa_vecs)\n",
    "    #np.save(res_addr + 'similarity_scores_batch_' + str(step), similarity_scores)#.cpu().numpy())\n",
    "    #load this later\n",
    "    #np.load(self.res_addr + 'base/similarity_scores')\n",
    "    #print(similarity_scores.shape)\n",
    "    for i, geo_id in enumerate(geo_ids_batch): #this is only from testing geo_id\n",
    "        #print(geo_id)\n",
    "        similarity_value_dict[geo_id] =  list(similarity_scores[i])#.cpu().numpy())\n",
    "\n",
    "    new_similarity_dict =  sort_this(geo_sim_dict = similarity_value_dict, pmid_ls = pmids)\n",
    "    end_time = time.time()\n",
    "    secs = end_time - start_time\n",
    "    timeit_ls.append(secs)\n",
    "    if step > 4:\n",
    "        break\n",
    "    \n",
    "print(np.mean(np.array(timeit_ls))) \n",
    "print(np.mean(np.array(timeit_ls))/b_size)"
   ]
  }
 ],
 "metadata": {
  "kernelspec": {
   "display_name": "Python 3 (ipykernel)",
   "language": "python",
   "name": "python3"
  },
  "language_info": {
   "codemirror_mode": {
    "name": "ipython",
    "version": 3
   },
   "file_extension": ".py",
   "mimetype": "text/x-python",
   "name": "python",
   "nbconvert_exporter": "python",
   "pygments_lexer": "ipython3",
   "version": "3.7.11"
  }
 },
 "nbformat": 4,
 "nbformat_minor": 2
}
