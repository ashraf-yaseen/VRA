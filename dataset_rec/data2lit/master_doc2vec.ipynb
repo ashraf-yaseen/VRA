{
 "cells": [
  {
   "cell_type": "code",
   "execution_count": null,
   "metadata": {
    "scrolled": true
   },
   "outputs": [],
   "source": [
    "from sklearn.metrics.pairwise import linear_kernel, cosine_similarity\n",
    "import pickle\n",
    "from collections import defaultdict\n",
    "import numpy as np\n",
    "import scipy\n",
    "import os\n",
    "import time       \n",
    "import os \n",
    "\n",
    "from emb.doc2vec import Doc2Vec\n",
    "from utils.find_ranking_citation import CitationRanking\n",
    "from utils.write_result import WriteResult\n",
    "from utils.utils import sort_this\n",
    "from utils.configuraiton import Rec_configuration \n",
    "from utils.eval import Metrics\n",
    "from utils.data_loading import DataLoading"
   ]
  },
  {
   "cell_type": "code",
   "execution_count": null,
   "metadata": {},
   "outputs": [],
   "source": [
    "class Master:\n",
    "    def __init__(self, rerank = False):\n",
    "        self.rec_conf = Rec_configuration()\n",
    "        self.article_title, self.article_abstract, self.geo_title, \\\n",
    "        self.geo_summary, self.citation_data = DataLoading().get_all_details() #we should get actual citations\n",
    "        self.auto_rank = CitationRanking(self.citation_data)\n",
    "        self.write_res = WriteResult()\n",
    "        choose = list(self.citation_data.keys())\n",
    "        self.geo_test_data = [key for key in choose if self.citation_data[key] != []] #76,064\n",
    "        #self.rr = ReRankingTitle() # i definitely need to work on this as well (re-ranking title using bert)\n",
    "        self.top_threshold = 10 #sounds nice\n",
    "        self.rerank = rerank\n",
    "        #bert related\n",
    "        #self.model_distilbert = SentenceTransformer('distilbert-base-nli-stsb-mean-tokens') #roberta \n",
    "        self.model_addr = self.rec_conf.model_path_doc2vec #subject to change\n",
    "        self.res_addr = self.rec_conf.result_address_doc2vec #subject to change\n",
    "        \n",
    "\n",
    "    def process(self):\n",
    "        #check paths and check vecs  \n",
    "        d2v = Doc2Vec(self.model_addr)\n",
    "        pmids, d2v_vecs = None, None #this should be loading something\n",
    "\n",
    "        # This is for loading the pre-trained bert models.\n",
    "        if d2v_vecs is not None and pmids is not None:\n",
    "            print('load trained models and encoded publications vectors')\n",
    "            '''\n",
    "            \n",
    "            '''\n",
    "        else:\n",
    "            print('Building models')\n",
    "            joined_dict_article = {}\n",
    "            for pmid in self.article_title: #for articles, encoding the articles\n",
    "                if (self.article_title[pmid] + self.article_abstract[pmid]).strip() != '':\n",
    "                    joined_dict_article[pmid] = self.article_title[pmid] + ' ' + self.article_abstract[pmid]\n",
    "            #should be some training here, otherwise just do the easiest encodinh\n",
    "            d2v.training(joined_dict_article)\n",
    "    \n",
    "        joined_dict_geo = {} # maxium: 76,064\n",
    "        # screening first for those geo_ids with pmids \n",
    "        for geo_id in self.geo_test_data:\n",
    "            print('geo_id')\n",
    "            print(geo_id)\n",
    "            if (self.geo_title[geo_id] + self.geo_summary[geo_id]).strip() != '':\n",
    "                #only get the ones with actual texts\n",
    "                joined_dict_geo[geo_id] = self.geo_title[geo_id] + ' ' + self.geo_summary[geo_id]\n",
    "                \n",
    "        #geo_w2v_vecs_dict = w2v.create_vectors(joined_dict_geo)\n",
    "        with open(self.res_addr + 'smallbase/joined_dict_geo', 'wb') as handle:\n",
    "            pickle.dump(joined_dict_geo, handle, protocol=pickle.HIGHEST_PROTOCOL)\n",
    "    "
   ]
  },
  {
   "cell_type": "code",
   "execution_count": null,
   "metadata": {},
   "outputs": [],
   "source": [
    "def main():\n",
    "    x = Master(rerank = False)\n",
    "    x.process()\n",
    "\n",
    "\n",
    "if __name__ == '__main__':\n",
    "    main()"
   ]
  },
  {
   "cell_type": "code",
   "execution_count": null,
   "metadata": {},
   "outputs": [],
   "source": [
    "#read-in stored vec \n",
    "res_addr = 'results/doc2vec_plain/smallbase/'\n",
    "model_addr = 'resources/doc2vec/'\n",
    "with open(res_addr +'joined_dict_geo', 'rb') as fp:\n",
    "    joined_dict_geo = pickle.load(fp)"
   ]
  },
  {
   "cell_type": "code",
   "execution_count": null,
   "metadata": {},
   "outputs": [],
   "source": [
    "#do numpy only \n",
    "_, _, _, _, citation_data = DataLoading().get_all_details() #we should get actual citations\n",
    "auto_rank = CitationRanking(citation_data)\n",
    "write_res = WriteResult()  \n",
    "#b_size = 64\n",
    "#tfidf_vecs = tfidf_vecs.toarray()"
   ]
  },
  {
   "cell_type": "code",
   "execution_count": null,
   "metadata": {},
   "outputs": [],
   "source": [
    "d2v = Doc2Vec(model_addr)\n",
    "d2v.load_model()"
   ]
  },
  {
   "cell_type": "code",
   "execution_count": null,
   "metadata": {},
   "outputs": [],
   "source": [
    "geo_ids = list(joined_dict_geo.keys())\n",
    "#geo_w2c_vecs  = list(geo_w2v_vecs_dict.values()) "
   ]
  },
  {
   "cell_type": "code",
   "execution_count": null,
   "metadata": {},
   "outputs": [],
   "source": [
    "final_similarity_dict = {}\n",
    "for step, (k,v) in enumerate(joined_dict_geo.items()):\n",
    "    query_doc = v #list of the string\n",
    "    query_vec = d2v.train_new_vec(query_doc)\n",
    "    new_similarity_dict = d2v.similar_vec(query_vec)\n",
    "    final_similarity_dict[k] = new_similarity_dict\n",
    "    print(k)\n",
    "    write_res.write(res_addr  + k + '.txt', new_similarity_dict)\n",
    "    auto_rank.find_citations(k, list(new_similarity_dict.keys())) #keys are a list of pmids\n",
    "a, b, c, d = auto_rank.get_values() #need to modify this \n",
    "print('good geo recommendations = {}, top1 hit geo recommendations = {}, bad geo recommendations = {}, '\n",
    "      'geo without citations = {}'.format(a, b, c, d))\n",
    "#we need many more than just MRR\n",
    "filename =  res_addr + 'new_similarity_dict.pickle'\n",
    "os.makedirs(os.path.dirname(filename), exist_ok=True)\n",
    "with open(res_addr + 'new_similarity_dict.pickle', 'wb') as handle:\n",
    "    pickle.dump(final_similarity_dict, handle, protocol=pickle.HIGHEST_PROTOCOL)    \n",
    "    "
   ]
  },
  {
   "cell_type": "code",
   "execution_count": null,
   "metadata": {},
   "outputs": [],
   "source": [
    "with open(res_addr +'new_similarity_dict.pickle', 'rb') as fp:\n",
    "    new_similarity_dict = pickle.load(fp)"
   ]
  },
  {
   "cell_type": "code",
   "execution_count": null,
   "metadata": {},
   "outputs": [],
   "source": [
    "#MRR \n",
    "print('MRR:')\n",
    "print(Metrics(citation_data).calculate_mrr(new_similarity_dict)) #mrr\n",
    "#recall @1 and recall @10\n",
    "print('recall@1, recall@10:')\n",
    "print(Metrics(citation_data).calculate_recall_at_k(new_similarity_dict, 1))\n",
    "print(Metrics(citation_data).calculate_recall_at_k(new_similarity_dict, 10))\n",
    "#Precision@1 and precision10\n",
    "print('precision@1, precision@10:')\n",
    "print(Metrics(citation_data).calculate_precision_at_k(new_similarity_dict, 1))        \n",
    "print(Metrics(citation_data).calculate_precision_at_k(new_similarity_dict, 10))\n",
    "#MAP@10\n",
    "print(Metrics(citation_data).calculate_MAP_at_k(new_similarity_dict))"
   ]
  }
 ],
 "metadata": {
  "kernelspec": {
   "display_name": "Python 3 (ipykernel)",
   "language": "python",
   "name": "python3"
  },
  "language_info": {
   "codemirror_mode": {
    "name": "ipython",
    "version": 3
   },
   "file_extension": ".py",
   "mimetype": "text/x-python",
   "name": "python",
   "nbconvert_exporter": "python",
   "pygments_lexer": "ipython3",
   "version": "3.7.11"
  }
 },
 "nbformat": 4,
 "nbformat_minor": 2
}
