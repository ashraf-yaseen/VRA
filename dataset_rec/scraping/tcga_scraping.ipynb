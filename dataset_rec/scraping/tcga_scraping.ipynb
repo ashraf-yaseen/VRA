{
 "metadata": {
  "language_info": {
   "codemirror_mode": {
    "name": "ipython",
    "version": 3
   },
   "file_extension": ".py",
   "mimetype": "text/x-python",
   "name": "python",
   "nbconvert_exporter": "python",
   "pygments_lexer": "ipython3",
   "version": "3.8.5-final"
  },
  "orig_nbformat": 2,
  "kernelspec": {
   "name": "python3",
   "display_name": "Python 3"
  }
 },
 "nbformat": 4,
 "nbformat_minor": 2,
 "cells": [
  {
   "cell_type": "code",
   "execution_count": 1,
   "metadata": {},
   "outputs": [],
   "source": [
    "import yaml\n",
    "import time\n",
    "\n",
    "import numpy as np\n",
    "import pandas as pd\n",
    "\n",
    "from Bio import Entrez"
   ]
  },
  {
   "cell_type": "code",
   "execution_count": 2,
   "metadata": {},
   "outputs": [
    {
     "output_type": "stream",
     "name": "stdout",
     "text": [
      "Read Successful\n"
     ]
    }
   ],
   "source": [
    "with open(\"apikeys.yaml\", \"r\") as yamlfile:\n",
    "  keys = yaml.load(yamlfile, Loader=yaml.FullLoader)\n",
    "  print(\"Read Successful\")"
   ]
  },
  {
   "cell_type": "code",
   "execution_count": 3,
   "metadata": {},
   "outputs": [],
   "source": [
    "tcga = pd.read_csv(\"tcga_20190225Genes.csv\")"
   ]
  },
  {
   "cell_type": "code",
   "execution_count": 4,
   "metadata": {},
   "outputs": [],
   "source": [
    "tcga_gene = tcga[[\"symbol\"]].dropna().drop_duplicates().values.tolist()"
   ]
  },
  {
   "cell_type": "code",
   "execution_count": 5,
   "metadata": {},
   "outputs": [],
   "source": [
    "def get_pmid(ref_title, contact, key):\n",
    "    ''' Using the Entrez search term, it queries the eSearch endpoint of the Entrez api to retrieve the corresponding pmids'''\n",
    "    pmid = []\n",
    "    counter = 0\n",
    "    for i in range(len(ref_title)):\n",
    "            Entrez.email = contact\n",
    "            Entrez.api_key = key\n",
    "            handle = Entrez.esearch(db='pubmed', term = ref_title[i], retmax=15)\n",
    "            record = Entrez.read(handle)\n",
    "            pmid.append(record['IdList'])\n",
    "\n",
    "            if counter == 600:\n",
    "                time.sleep(60)\n",
    "                counter = 0\n",
    "            \n",
    "            counter += 1\n",
    "\n",
    "    return pmid"
   ]
  },
  {
   "cell_type": "code",
   "execution_count": 6,
   "metadata": {},
   "outputs": [],
   "source": [
    "tcga_pmids = get_pmid(tcga_gene, contact=\"rachit.sabharwal@uth.tmc.edu\", key=keys[\"apikeys\"][\"ncbikey\"][\"key\"])"
   ]
  },
  {
   "cell_type": "code",
   "execution_count": 9,
   "metadata": {},
   "outputs": [],
   "source": [
    "tcga_pmids_dict = {\"symbol\":tcga_gene, \"external_references_ncbi_pmids\":tcga_pmids}\n",
    "tcga_pmids_df = pd.DataFrame(tcga_pmids_dict, columns=[\"symbol\", \"external_references_ncbi_pmids\"])"
   ]
  },
  {
   "cell_type": "code",
   "execution_count": 10,
   "metadata": {},
   "outputs": [],
   "source": [
    "tcga_pmids_df.to_csv(\"tcga_pmids.csv\", index=False)"
   ]
  }
 ]
}
