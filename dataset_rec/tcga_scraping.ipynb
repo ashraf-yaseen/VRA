{
 "metadata": {
  "language_info": {
   "codemirror_mode": {
    "name": "ipython",
    "version": 3
   },
   "file_extension": ".py",
   "mimetype": "text/x-python",
   "name": "python",
   "nbconvert_exporter": "python",
   "pygments_lexer": "ipython3",
   "version": "3.8.5-final"
  },
  "orig_nbformat": 2,
  "kernelspec": {
   "name": "python3",
   "display_name": "Python 3"
  }
 },
 "nbformat": 4,
 "nbformat_minor": 2,
 "cells": [
  {
   "cell_type": "code",
   "execution_count": 1,
   "metadata": {},
   "outputs": [],
   "source": [
    "import time\n",
    "\n",
    "import numpy as np\n",
    "import pandas as pd\n",
    "\n",
    "from Bio import Entrez"
   ]
  },
  {
   "cell_type": "code",
   "execution_count": 2,
   "metadata": {},
   "outputs": [],
   "source": [
    "tcga = pd.read_csv(\"tcga_20190225Genes.csv\")"
   ]
  },
  {
   "cell_type": "code",
   "execution_count": 5,
   "metadata": {},
   "outputs": [],
   "source": [
    "tcga_gene = tcga[[\"external_references_ncbi_gene\", \"external_references_ncbi_gene_url\"]].dropna().drop_duplicates()\n",
    "tcga_gene = tcga_gene[tcga_gene.external_references_ncbi_gene != \"--\"].dropna()"
   ]
  },
  {
   "cell_type": "code",
   "execution_count": 26,
   "metadata": {},
   "outputs": [],
   "source": [
    "contact=\"rachit.sabharwal@uth.tmc.edu\"\n",
    "key=\"\"\n",
    "Entrez.email = contact\n",
    "Entrez.api_key = key\n",
    "handle = Entrez.efetch(db='gene', id=8295, retmode='text')\n",
    "ayaya = handle.read()"
   ]
  },
  {
   "cell_type": "code",
   "execution_count": 27,
   "metadata": {},
   "outputs": [],
   "source": [
    "f = open(\"check.txt\", \"a+\")\n",
    "f.write(ayaya)\n",
    "f.close()\n"
   ]
  },
  {
   "cell_type": "code",
   "execution_count": null,
   "metadata": {},
   "outputs": [],
   "source": [
    "def get_pmid(ref_title, contact=\"rachit.sabharwal@uth.tmc.edu\", key=\"\"):\n",
    "    ''' Using the Entrez search term, it queries the eSearch endpoint of the Entrez api to retrieve the corresponding pmids'''\n",
    "    pmid = []\n",
    "    counter = 0\n",
    "    for i in range(len(ref_title)):\n",
    "        if \"PMID\" not in ref_title:\n",
    "            Entrez.email = contact\n",
    "            Entrez.api_key = key\n",
    "            handle = Entrez.esearch(db='pubmed', term = ref_title[i], retmax=1)\n",
    "            record = Entrez.read(handle)\n",
    "            pmid.append(record['IdList'])\n",
    "\n",
    "            if counter == 5:\n",
    "                time.sleep(60)\n",
    "                counter = 0\n",
    "            \n",
    "            counter += 1\n",
    "\n",
    "    return pmid"
   ]
  }
 ]
}