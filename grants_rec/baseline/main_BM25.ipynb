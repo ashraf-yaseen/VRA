{
 "cells": [
  {
   "cell_type": "markdown",
   "metadata": {},
   "source": [
    "## Functionality Summary\n",
    "In this notebook, we did\n",
    "* Baseline experiments for BM25 \n",
    "* built the whole vocabulary on the RFA and testing on publications belonging to the test data\n",
    "* all evaluations are done on the test datasets "
   ]
  },
  {
   "cell_type": "code",
   "execution_count": 1,
   "metadata": {},
   "outputs": [],
   "source": [
    "import pickle\n",
    "import os\n",
    "import sys\n",
    "import argparse \n",
    "import ast\n",
    "import pandas as pd\n",
    "import numpy as np\n",
    "import logging \n",
    "#from sklearn.feature_extraction.text import TfidfVectorizer\n",
    "#from sklearn.metrics.pairwise import linear_kernel\n",
    "from gensim import corpora\n",
    "from gensim.summarization import bm25\n",
    "\n",
    "#local \n",
    "import utils_bsl as ut"
   ]
  },
  {
   "cell_type": "code",
   "execution_count": 2,
   "metadata": {},
   "outputs": [],
   "source": [
    "#in the order that they will be used\n",
    "parser = argparse.ArgumentParser(description = 'BM25 for Grant recommendation')\n",
    "parser.add_argument('-data_path', type = str, default = 'newdata/', \n",
    "                    help = 'complete path to the training data [default:newdata/]')\n",
    "parser.add_argument('-load_pretrained', type = bool, default = True,\n",
    "                    help = 'whether to load pretrained BM25 embeddings & corpus & vectorizer [default:False]')\n",
    "parser.add_argument('-load_path', type = str, default = 'evalAuto/bm25/', \n",
    "                    help = 'path where bm25 embeddings & corpus & vectorizers are saved [default:evalAuto/bm25/]')\n",
    "parser.add_argument('-top', type = int, default = 10, \n",
    "                    help = 'number of recommendations to take [default:10]')\n",
    "args = parser.parse_args([])"
   ]
  },
  {
   "cell_type": "code",
   "execution_count": 3,
   "metadata": {},
   "outputs": [],
   "source": [
    "def main(args):\n",
    "    seed_val = 1234\n",
    "    ut.set_seed(seed_val) \n",
    "    \n",
    "    # get logger started\n",
    "    logging.basicConfig(level=logging.ERROR, filename= args.load_path + \"logfile\", filemode=\"a+\",\n",
    "                            format=\"%(asctime)-15s %(levelname)-8s %(message)s\")\n",
    "    logger = logging.getLogger('BM25 for grant')\n",
    "    handler = logging.FileHandler(args.load_path + \"logfile\")\n",
    "    logger.addHandler(handler)\n",
    "    logger.error('BM25 for grant')\n",
    "    \n",
    "    try:\n",
    "        # train, valid and test \n",
    "        rfas, pubs, mix_df, \\\n",
    "        train_idx, valid_idx, test_idx, \\\n",
    "        train_citation, valid_citation, citation, \\\n",
    "        train_mixed, valid_mixed, test_mixed = ut.load_data(args.data_path)\n",
    "        rfa_vecs, rfa_ids, vectorizer, dictionary = ut.process_rfa_corpus_bm25(df = rfas, \n",
    "                                                               outpath = args.load_path, \\\n",
    "                                                               load_pretrained = args.load_pretrained)\n",
    "        train_scores, train_pmids, _ = ut.process_pub_query_bm25(idx = train_idx, mix_df = mix_df, pubs = pubs, \n",
    "                                                          vectorizer = vectorizer, dictionary = dictionary,\\\n",
    "                                                          idx_name = 'train_', \\\n",
    "                                                          outpath = args.load_path, \\\n",
    "                                                          load_pretrained = args.load_pretrained)\n",
    "        valid_scores, valid_pmids, _ = ut.process_pub_query_bm25(idx = valid_idx, mix_df = mix_df, pubs = pubs, \n",
    "                                                          vectorizer = vectorizer, dictionary = dictionary,\\\n",
    "                                                          idx_name = 'valid_', \\\n",
    "                                                          outpath = args.load_path, \\\n",
    "                                                          load_pretrained = args.load_pretrained)\n",
    "        test_scores, test_pmids, _ = ut.process_pub_query_bm25(idx = test_idx, mix_df = mix_df, pubs = pubs, \n",
    "                                                          vectorizer = vectorizer, dictionary = dictionary,\\\n",
    "                                                          idx_name = 'test_', \\\n",
    "                                                          outpath = args.load_path, \\\n",
    "                                                          load_pretrained = args.load_pretrained)\n",
    "        # prediction \n",
    "        train_dict = ut.sim_recommend_bm25( corpus_ids = rfa_ids,\\\n",
    "                                           query_scores = train_scores, query_ids = train_pmids, \n",
    "                                           mix_dict = train_mixed, mode= 'strict',outpath = args.load_path, \\\n",
    "                                           query_name = 'train_', top= args.top) \n",
    "        valid_dict = ut.sim_recommend_bm25( corpus_ids = rfa_ids,\\\n",
    "                                           query_scores = valid_scores, query_ids = valid_pmids, \n",
    "                                           mix_dict = valid_mixed, mode= 'strict',outpath = args.load_path, \\\n",
    "                                           query_name = 'valid_', top= args.top) \n",
    "        test_dict = ut.sim_recommend_bm25( corpus_ids = rfa_ids,\\\n",
    "                                           query_scores = test_scores, query_ids = test_pmids, \n",
    "                                           mix_dict = test_mixed, mode= 'strict',outpath = args.load_path, \\\n",
    "                                           query_name = 'test_', top= args.top)\n",
    "        \n",
    "        # evaluation on train and test \n",
    "        logger.error('=======train statistics======')\n",
    "        ut.print_metrics(citation = train_citation, similarity_dict = train_dict, logger = logger, ks = [1, 5])\n",
    "        print('=========================================')\n",
    "        logger.error('=======test statistics======')\n",
    "        ut.print_metrics(citation = citation, similarity_dict = test_dict, logger = logger, ks = [1, 5])\n",
    "        logging.shutdown()\n",
    "        for handler in logger.handlers:\n",
    "            if isinstance(handler, logging.FileHandler):\n",
    "                handler.close()\n",
    "                \n",
    "    except KeyboardInterrupt:\n",
    "        print(colored('--' * 70, 'green'))\n",
    "        print(colored('Exiting from training early', 'green'))"
   ]
  },
  {
   "cell_type": "code",
   "execution_count": 4,
   "metadata": {},
   "outputs": [
    {
     "name": "stdout",
     "output_type": "stream",
     "text": [
      "MRR:\n",
      "0.8384266042714946\n",
      "recall@1, recall@5:\n",
      "0.655245851364705\n",
      "0.884258470485342\n",
      "precision@1, precision@5:\n",
      "0.6968344294135687\n",
      "0.6933972050900528\n",
      "MAP:\n",
      "0.8384266042714946\n",
      "=========================================\n",
      "MRR:\n",
      "0.8365500229153748\n",
      "recall@1, recall@5:\n",
      "0.6530666163427061\n",
      "0.8852991130401963\n",
      "precision@1, precision@5:\n",
      "0.6935270805812418\n",
      "0.6932289111153048\n",
      "MAP:\n",
      "0.8365500229153748\n"
     ]
    }
   ],
   "source": [
    "if __name__ == \"__main__\":\n",
    "    main(args)"
   ]
  },
  {
   "cell_type": "code",
   "execution_count": null,
   "metadata": {},
   "outputs": [],
   "source": []
  },
  {
   "cell_type": "code",
   "execution_count": null,
   "metadata": {},
   "outputs": [],
   "source": []
  },
  {
   "cell_type": "code",
   "execution_count": null,
   "metadata": {},
   "outputs": [],
   "source": []
  }
 ],
 "metadata": {
  "kernelspec": {
   "display_name": "Python 3 (ipykernel)",
   "language": "python",
   "name": "python3"
  },
  "language_info": {
   "codemirror_mode": {
    "name": "ipython",
    "version": 3
   },
   "file_extension": ".py",
   "mimetype": "text/x-python",
   "name": "python",
   "nbconvert_exporter": "python",
   "pygments_lexer": "ipython3",
   "version": "3.7.11"
  }
 },
 "nbformat": 4,
 "nbformat_minor": 2
}
